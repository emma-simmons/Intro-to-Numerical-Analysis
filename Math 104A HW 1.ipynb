{
 "cells": [
  {
   "cell_type": "markdown",
   "metadata": {},
   "source": [
    "Emma Simmons,\n",
    "Last modified: 10/26/20"
   ]
  },
  {
   "cell_type": "markdown",
   "metadata": {},
   "source": [
    "$\\textbf{Question 1 Part 1}$: The following code implements the Composite Trapezoidal Rule. The variable $f$ is the function we are evaluating, N is the number of terms that the interval is split into, a is the start point for the integral, and b is the end point. We expect to get an approximation of the integral of our function $f$ from a to b. "
   ]
  },
  {
   "cell_type": "code",
   "execution_count": 71,
   "metadata": {},
   "outputs": [],
   "source": [
    "import math\n",
    "import numpy as np\n",
    "\n",
    "def CTR(f,N,a,b):\n",
    "    h=(b-a)/N\n",
    "    x=a\n",
    "    T=h*f(x)*0.5\n",
    "    for i in range(N-1):\n",
    "        x=x+h\n",
    "        T=T+(f(x)*h)\n",
    "    x=x+h\n",
    "    T=T+(0.5*h*f(x))\n",
    "    return T\n"
   ]
  },
  {
   "cell_type": "markdown",
   "metadata": {},
   "source": [
    "$\\textbf{Question 1 Part 2: 1.}$ We define our function $f(x)=sin(x^2+1)$. Then, we find a value of $q(h)$ approximately equal to 4. We note that when $h$ goes to $h/2$ in the Composite Trapezoidal Rule function, that $N$ becomes 2 times $N$ and when $h$ goes to $h/4$, $N$ becomes 4 times $N$. This is because of our relation $h=(b-a)/N$."
   ]
  },
  {
   "cell_type": "code",
   "execution_count": 72,
   "metadata": {},
   "outputs": [
    {
     "data": {
      "text/plain": [
       "4.000264531755459"
      ]
     },
     "execution_count": 72,
     "metadata": {},
     "output_type": "execute_result"
    }
   ],
   "source": [
    "def f(x):\n",
    "    return math.sin((x**2)+1)\n",
    "\n",
    "q=(CTR(f, 60, 0, math.sqrt(math.pi/2)) - CTR(f, 30, 0, math.sqrt(math.pi/2)))/(CTR(f, 120, 0, math.sqrt(math.pi/2)) - CTR(f, 60, 0, math.sqrt(math.pi/2)))\n",
    "q\n"
   ]
  },
  {
   "cell_type": "markdown",
   "metadata": {},
   "source": [
    "The value of $h$ that makes $q(h)$ approximately equal to 4 is $h$=.0417771379."
   ]
  },
  {
   "cell_type": "markdown",
   "metadata": {},
   "source": [
    "$\\textbf{Question 1 Part 2: 2.}$ To get an approximation of the error, we must take a different approach than subtracting $T_h[sin(x^2+1)]$ from $I[sin(x^2+1)]$ because we cannot evaulate this integral. "
   ]
  },
  {
   "cell_type": "code",
   "execution_count": 73,
   "metadata": {},
   "outputs": [
    {
     "name": "stdout",
     "output_type": "stream",
     "text": [
      "Our approximation of the error is 0.0003068057627103234\n"
     ]
    }
   ],
   "source": [
    "error=(4/3)*(CTR(f, 60, 0, math.sqrt(math.pi/2))-CTR(f, 30, 0, math.sqrt(math.pi/2)))\n",
    "print(\"Our approximation of the error is\", error)"
   ]
  },
  {
   "cell_type": "markdown",
   "metadata": {},
   "source": [
    "$\\textbf{Question 1 Part 2: 3.}$ Now we will find the extrapolated and improved approximation for the integral using $S_h[sin(x^2+1)]=T_h[sin(x^2+1)]+4/3(T_{h/2}[sin(x^2+1)]-T_h[sin(x^2+1)])$"
   ]
  },
  {
   "cell_type": "code",
   "execution_count": 74,
   "metadata": {},
   "outputs": [
    {
     "data": {
      "text/plain": [
       "1.1192723155110518"
      ]
     },
     "execution_count": 74,
     "metadata": {},
     "output_type": "execute_result"
    }
   ],
   "source": [
    "S_h=CTR(f, 30, 0, math.sqrt(math.pi/2))+error\n",
    "S_h"
   ]
  },
  {
   "cell_type": "markdown",
   "metadata": {},
   "source": [
    "$\\textbf{Question 1 Part 2: 4.}$ The function $S_h[sin(x^2+1)]$ is more accurate and converges faster to $I[sin(x^2+1)]$ because it accounts for error while $T_h[sin(x^2+1)]$ does not. With the $S_h$ function, we add the error computed earlier to the $T_h$ function which means that we are not just approximating trapezoids under the curve, which will get us closer to the value of the acutal integral. Since $S_h$ is more accurate, each time it is run with a smaller $h$, it will get closer and closer to the actual value of the integral, so it converges faster to $I[sin(x^2+1)]$."
   ]
  },
  {
   "cell_type": "markdown",
   "metadata": {},
   "source": [
    "$\\textbf{Question 2 Part 1:}$ The following code implements the Composite Simpson's Rule. The variable $f$ is the function we are evaluating, N is the number of terms that the interval is split into, $a$ is the start point for the integral, and $b$ is the end point. We expect to get an approximation of the integral of our function $f$ from $a$ to $b$. "
   ]
  },
  {
   "cell_type": "code",
   "execution_count": 75,
   "metadata": {},
   "outputs": [],
   "source": [
    "def CSR(f, N, a, b):\n",
    "    h=(b-a)/N\n",
    "    x=a\n",
    "    T=f(x)\n",
    "    S=0\n",
    "    y=a\n",
    "    for j in range(N):\n",
    "        x=x+h\n",
    "        g=x-(h/2)\n",
    "        T=T+(4*f(g))\n",
    "   \n",
    "    for j in range(N-1):\n",
    "        y=y+h\n",
    "        S=S+2*(f(y))\n",
    "    \n",
    "    return (h/6)*(T+S+f(b))\n",
    "\n",
    "\n",
    "        \n",
    "        \n",
    "    "
   ]
  },
  {
   "cell_type": "markdown",
   "metadata": {},
   "source": [
    "$\\textbf{Question 2 Part 2}:$ Now we find the error for $h=1/10$, $h=1/20$, $h=1/40$, and $h=1/80$. We then take take the ratio of the errors in order to find the rate of convergence. "
   ]
  },
  {
   "cell_type": "code",
   "execution_count": 76,
   "metadata": {},
   "outputs": [
    {
     "name": "stdout",
     "output_type": "stream",
     "text": [
      "1.62954681970362e-08\n",
      "1.01755565085071e-09\n",
      "6.35829722206438e-11\n"
     ]
    }
   ],
   "source": [
    "import scipy.integrate as integrate\n",
    "\n",
    "def g(x):\n",
    "    return (x/(1+x**2))\n",
    "I_f=integrate.quad(g, 0,1)\n",
    "\n",
    "#h=1/10\n",
    "error_10=abs(I_f[0]-CSR(g, 10, 0,1))\n",
    "\n",
    "#h=1/20\n",
    "error_20=abs(I_f[0]-CSR(g, 20, 0,1))\n",
    "print(error_20)\n",
    "\n",
    "#h=1/40\n",
    "error_40=abs(I_f[0]-CSR(g, 40, 0,1))\n",
    "print(error_40)\n",
    "\n",
    "#h=1/80\n",
    "error_80=abs(I_f[0]-CSR(g, 80, 0,1))\n",
    "print(error_80)"
   ]
  },
  {
   "cell_type": "code",
   "execution_count": 77,
   "metadata": {},
   "outputs": [
    {
     "name": "stdout",
     "output_type": "stream",
     "text": [
      "16.057827808422967 16.01432627631978 16.003587364862682\n"
     ]
    }
   ],
   "source": [
    "ratio1=(error_10/error_20)\n",
    "ratio2=(error_20/error_40)\n",
    "ratio3=(error_40/error_80)\n",
    "print(ratio1, ratio2, ratio3)"
   ]
  },
  {
   "cell_type": "markdown",
   "metadata": {},
   "source": [
    "The error is decreasing as $h$ gets smaller so it does indeed have a convergent trend. From the result of the ratios, we can see that the rate of convergence is 4, because $2^4=16$."
   ]
  },
  {
   "cell_type": "markdown",
   "metadata": {},
   "source": [
    "$\\textbf{Question 2 Part 3:}$ We define our function $l(x)$. Then, we will compute an approximation for the integral using the composite Simpson's Rule for $h=\\frac{1}{2^j}$ $j=4:8$.   "
   ]
  },
  {
   "cell_type": "code",
   "execution_count": 78,
   "metadata": {},
   "outputs": [
    {
     "name": "stdout",
     "output_type": "stream",
     "text": [
      "0.6662181827461796 0.666508103078362 0.6666106059362655 0.6666468462030958 0.6666596590744267\n"
     ]
    }
   ],
   "source": [
    "def l(x):\n",
    "    return math.sqrt(x)\n",
    "\n",
    "#h=1/16\n",
    "S_h_16= CSR(l, 16, 0, 1)\n",
    "\n",
    "#h=1/32\n",
    "S_h_32= CSR(l, 32, 0, 1)\n",
    "\n",
    "#h=1/64\n",
    "S_h_64= CSR(l, 64, 0, 1)\n",
    "\n",
    "#h=1/128\n",
    "S_h_128= CSR(l, 128, 0, 1)\n",
    "\n",
    "#h=1/256\n",
    "S_h_256= CSR(l, 256, 0 ,1)\n",
    "\n",
    "print(S_h_16, S_h_32, S_h_64, S_h_128, S_h_256)\n"
   ]
  },
  {
   "cell_type": "markdown",
   "metadata": {},
   "source": [
    "Although it gets very close, we do not see the 4th order of convergence to the exact value of the integral. The exact value of the integral is 0.6666666666666669 and our last value is 0.6666596590744267."
   ]
  },
  {
   "cell_type": "markdown",
   "metadata": {},
   "source": [
    "$\\textbf{Question 3 Part 1:}$ $e^x-1=\\mathcal{O}(x^2)$ as $x\\rightarrow 0$"
   ]
  },
  {
   "cell_type": "markdown",
   "metadata": {},
   "source": [
    "Taking $\\lim_{x\\to 0} \\frac{e^x-1}{x^2}$ gives us $\\frac{0}{0}$, so we apply L'Hopital's Rule to get $\\lim_{x\\to 0} \\frac{d/dx}{d/dx} \\frac{e^x-1}{x^2}$= $\\lim_{x\\to 0} \\frac{e^x}{2x}$= $\\frac{1}{2}\\lim_{x\\to 0} \\frac{e^x}{x}$=$\\frac{1}{0}$ so it diverges to $\\infty \\neq c$  and therefore is not true."
   ]
  },
  {
   "cell_type": "markdown",
   "metadata": {},
   "source": [
    "$\\textbf{Question 3 Part 2:}$ $x^{-2}=\\mathcal{O}(cot(x))$ as $x\\rightarrow 0$"
   ]
  },
  {
   "cell_type": "markdown",
   "metadata": {},
   "source": [
    "Taking $\\lim_{x\\to 0}\\frac{x^{-2}}{cot(x)}=\\lim_{x\\to 0}\\frac{tan(x)}{x^2}=\\frac{0}{0}$ so once again we apply L'Hopital's Rule to get $\\lim_{x\\to 0}\\frac{d/dx}{d/dx}\\frac{tan(x)}{x^2}=\\lim_{x\\to 0}\\frac{sec^2(x)}{2x}=\\frac{1}{0}$ which diverges to $\\infty \\neq c$  and therefore is not true."
   ]
  },
  {
   "cell_type": "markdown",
   "metadata": {},
   "source": [
    "$\\textbf{Question 3 Part 3:} $cot(x)=o(x^{-1})$ as $x\\rightarrow 0$"
   ]
  },
  {
   "cell_type": "markdown",
   "metadata": {},
   "source": [
    "Taking $\\lim_{x\\to 0}\\frac{cot(x)}{x^{-1}}=\\lim_{x\\to 0}\\frac{x}{tan(x)}=\\frac{0}{0}$. So applying L'Hopital's Rule, $\\lim_{x\\to 0}\\frac{d/dx}{d/dx}\\frac{x}{tan(x)}=\\lim_{x\\to 0}\\frac{1}{sec^2(x)}=\\frac{1}{1}\\neq 0$ so it is not true. "
   ]
  }
 ],
 "metadata": {
  "kernelspec": {
   "display_name": "Python 3",
   "language": "python",
   "name": "python3"
  },
  "language_info": {
   "codemirror_mode": {
    "name": "ipython",
    "version": 3
   },
   "file_extension": ".py",
   "mimetype": "text/x-python",
   "name": "python",
   "nbconvert_exporter": "python",
   "pygments_lexer": "ipython3",
   "version": "3.8.3"
  }
 },
 "nbformat": 4,
 "nbformat_minor": 4
}
